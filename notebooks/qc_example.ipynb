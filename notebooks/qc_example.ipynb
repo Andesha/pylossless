{
  "cells": [
    {
      "cell_type": "code",
      "execution_count": 1,
      "metadata": {
        "colab": {
          "base_uri": "https://localhost:8080/"
        },
        "id": "FLVX3pAq7fPF",
        "outputId": "3c18de79-521e-44c7-ae7d-3a3478d75436"
      },
      "outputs": [
        {
          "output_type": "stream",
          "name": "stdout",
          "text": [
            "Cloning into 'pylossless'...\n",
            "remote: Enumerating objects: 726, done.\u001b[K\n",
            "remote: Counting objects: 100% (355/355), done.\u001b[K\n",
            "remote: Compressing objects: 100% (211/211), done.\u001b[K\n",
            "remote: Total 726 (delta 185), reused 272 (delta 138), pack-reused 371\u001b[K\n",
            "Receiving objects: 100% (726/726), 43.55 MiB | 23.05 MiB/s, done.\n",
            "Resolving deltas: 100% (383/383), done.\n",
            "/content/pylossless\n",
            "From https://github.com/lina-usc/pylossless\n",
            " * branch            dash2_ica  -> FETCH_HEAD\n",
            "Branch 'dash2_ica' set up to track remote branch 'dash2_ica' from 'origin'.\n",
            "Switched to a new branch 'dash2_ica'\n"
          ]
        }
      ],
      "source": [
        "!git clone https://github.com/lina-usc/pylossless.git\n",
        "%cd pylossless\n",
        "!git config user.name \"Dummy\"\n",
        "!git config user.email \"Dummy@Dummy.dumb\"\n",
        "!git fetch origin dash2_ica\n",
        "!git checkout dash2_ica"
      ]
    },
    {
      "cell_type": "code",
      "source": [
        "%pip install -q --editable .\n",
        "%pip install -q -r ./requirements.txt"
      ],
      "metadata": {
        "colab": {
          "base_uri": "https://localhost:8080/"
        },
        "id": "HeGCJuANs2si",
        "outputId": "5f863c0e-14eb-4370-b53f-d925d208ce7d"
      },
      "execution_count": 2,
      "outputs": [
        {
          "output_type": "stream",
          "name": "stdout",
          "text": [
            "  Preparing metadata (setup.py) ... \u001b[?25l\u001b[?25hdone\n",
            "\u001b[2K     \u001b[90m━━━━━━━━━━━━━━━━━━━━━━━━━━━━━━━━━━━━━━━━\u001b[0m \u001b[32m7.6/7.6 MB\u001b[0m \u001b[31m19.8 MB/s\u001b[0m eta \u001b[36m0:00:00\u001b[0m\n",
            "\u001b[2K     \u001b[90m━━━━━━━━━━━━━━━━━━━━━━━━━━━━━━━━━━━━━━━━\u001b[0m \u001b[32m1.2/1.2 MB\u001b[0m \u001b[31m65.1 MB/s\u001b[0m eta \u001b[36m0:00:00\u001b[0m\n",
            "\u001b[2K     \u001b[90m━━━━━━━━━━━━━━━━━━━━━━━━━━━━━━━━━━━━━━━━\u001b[0m \u001b[32m10.8/10.8 MB\u001b[0m \u001b[31m85.7 MB/s\u001b[0m eta \u001b[36m0:00:00\u001b[0m\n",
            "\u001b[2K     \u001b[90m━━━━━━━━━━━━━━━━━━━━━━━━━━━━━━━━━━━━━━\u001b[0m \u001b[32m224.6/224.6 KB\u001b[0m \u001b[31m14.7 MB/s\u001b[0m eta \u001b[36m0:00:00\u001b[0m\n",
            "\u001b[?25h  Installing build dependencies ... \u001b[?25l\u001b[?25hdone\n",
            "  Getting requirements to build wheel ... \u001b[?25l\u001b[?25hdone\n",
            "  Preparing metadata (pyproject.toml) ... \u001b[?25l\u001b[?25hdone\n",
            "\u001b[2K     \u001b[90m━━━━━━━━━━━━━━━━━━━━━━━━━━━━━━━━━━━━━━━━\u001b[0m \u001b[32m79.5/79.5 KB\u001b[0m \u001b[31m11.0 MB/s\u001b[0m eta \u001b[36m0:00:00\u001b[0m\n",
            "\u001b[2K     \u001b[90m━━━━━━━━━━━━━━━━━━━━━━━━━━━━━━━━━━━━━━━━\u001b[0m \u001b[32m9.9/9.9 MB\u001b[0m \u001b[31m91.1 MB/s\u001b[0m eta \u001b[36m0:00:00\u001b[0m\n",
            "\u001b[2K     \u001b[90m━━━━━━━━━━━━━━━━━━━━━━━━━━━━━━━━━━━━━━━━\u001b[0m \u001b[32m1.4/1.4 MB\u001b[0m \u001b[31m65.8 MB/s\u001b[0m eta \u001b[36m0:00:00\u001b[0m\n",
            "\u001b[2K     \u001b[90m━━━━━━━━━━━━━━━━━━━━━━━━━━━━━━━━━━━━━━━━\u001b[0m \u001b[32m74.6/74.6 KB\u001b[0m \u001b[31m9.8 MB/s\u001b[0m eta \u001b[36m0:00:00\u001b[0m\n",
            "\u001b[?25h  Installing build dependencies ... \u001b[?25l\u001b[?25hdone\n",
            "  Getting requirements to build wheel ... \u001b[?25l\u001b[?25hdone\n",
            "  Preparing metadata (pyproject.toml) ... \u001b[?25l\u001b[?25hdone\n",
            "  Building wheel for EDFlib (pyproject.toml) ... \u001b[?25l\u001b[?25hdone\n",
            "  Building wheel for jsbeautifier (pyproject.toml) ... \u001b[?25l\u001b[?25hdone\n"
          ]
        }
      ]
    },
    {
      "cell_type": "code",
      "source": [
        "%pip install -q jupyter_dash"
      ],
      "metadata": {
        "colab": {
          "base_uri": "https://localhost:8080/"
        },
        "id": "jcZrYYD9xKrz",
        "outputId": "f6e63b74-21bd-45f8-8e8e-e04057bca06d"
      },
      "execution_count": 3,
      "outputs": [
        {
          "output_type": "stream",
          "name": "stdout",
          "text": [
            "\u001b[?25l     \u001b[90m━━━━━━━━━━━━━━━━━━━━━━━━━━━━━━━━━━━━━━━━\u001b[0m \u001b[32m0.0/1.6 MB\u001b[0m \u001b[31m?\u001b[0m eta \u001b[36m-:--:--\u001b[0m\r\u001b[2K     \u001b[90m━━━━━━━━━━━━━━━━━━━━━━━━━━━━━━━━━━━━━━━━\u001b[0m \u001b[32m1.6/1.6 MB\u001b[0m \u001b[31m60.8 MB/s\u001b[0m eta \u001b[36m0:00:00\u001b[0m\n",
            "\u001b[?25h"
          ]
        }
      ]
    },
    {
      "cell_type": "code",
      "execution_count": 5,
      "metadata": {
        "colab": {
          "base_uri": "https://localhost:8080/",
          "height": 911
        },
        "id": "tB-GqKzb7dgk",
        "outputId": "a9a9a12b-3e3b-482f-d532-a3dcdef54e6d"
      },
      "outputs": [
        {
          "output_type": "stream",
          "name": "stderr",
          "text": [
            "/content/pylossless/pylossless/dash/app.py:14: RuntimeWarning:\n",
            "\n",
            "The number of channels in the channels.tsv sidecar file (129) does not match the number of channels in the raw data file (128). Will not try to set channel names.\n",
            "\n",
            "/content/pylossless/pylossless/dash/app.py:14: RuntimeWarning:\n",
            "\n",
            "Cannot set channel type for the following channels, as they are missing in the raw data: Status\n",
            "\n",
            "/content/pylossless/pylossless/dash/app.py:14: RuntimeWarning:\n",
            "\n",
            "participants.tsv file not found for /content/pylossless/assets/test_data/sub-s02/eeg/sub-s02_task-faceO_eeg.edf\n",
            "\n"
          ]
        },
        {
          "output_type": "stream",
          "name": "stdout",
          "text": [
            "Reading 0 ... 307455  =      0.000 ...  1200.996 secs...\n"
          ]
        },
        {
          "output_type": "display_data",
          "data": {
            "text/plain": [
              "<IPython.core.display.Javascript object>"
            ],
            "application/javascript": [
              "(async (port, path, width, height, cache, element) => {\n",
              "    if (!google.colab.kernel.accessAllowed && !cache) {\n",
              "      return;\n",
              "    }\n",
              "    element.appendChild(document.createTextNode(''));\n",
              "    const url = await google.colab.kernel.proxyPort(port, {cache});\n",
              "    const iframe = document.createElement('iframe');\n",
              "    iframe.src = new URL(path, url).toString();\n",
              "    iframe.height = height;\n",
              "    iframe.width = width;\n",
              "    iframe.style.border = 0;\n",
              "    iframe.allow = [\n",
              "        'accelerometer',\n",
              "        'autoplay',\n",
              "        'camera',\n",
              "        'clipboard-read',\n",
              "        'clipboard-write',\n",
              "        'gyroscope',\n",
              "        'magnetometer',\n",
              "        'microphone',\n",
              "        'serial',\n",
              "        'usb',\n",
              "        'xr-spatial-tracking',\n",
              "    ].join('; ');\n",
              "    element.appendChild(iframe);\n",
              "  })(8050, \"/\", \"100%\", 650, false, window.element)"
            ]
          },
          "metadata": {}
        }
      ],
      "source": [
        "from pathlib import Path\n",
        "from pylossless.dash.app import get_app\n",
        "import pylossless\n",
        "\n",
        "root = Path(pylossless.dash.app.__file__).parent.parent.parent\n",
        "assets_kwargs = dict(fname=root / \"assets/test_data/sub-s02/eeg/sub-s02_task-faceO_eeg.edf\",\n",
        "                     ica_fpath=root / \"assets/test_data/sub-s02/eeg/sub-s02_task-faceO_ica2_ica.fif\",\n",
        "                     iclabel_fpath=root / \"assets/test_data/sub-s02/eeg/sub-s02_task-faceO_iclabels.tsv\"\n",
        "                     )\n",
        "\n",
        "app = get_app(assets_kwargs=assets_kwargs, kind=\"jupyter\")\n",
        "app.run_server(mode=\"inline\")"
      ]
    },
    {
      "cell_type": "code",
      "source": [],
      "metadata": {
        "id": "CxpjFd_1xo05"
      },
      "execution_count": 4,
      "outputs": []
    }
  ],
  "metadata": {
    "colab": {
      "provenance": []
    },
    "kernelspec": {
      "display_name": "Python 3",
      "name": "python3"
    },
    "language_info": {
      "name": "python"
    }
  },
  "nbformat": 4,
  "nbformat_minor": 0
}